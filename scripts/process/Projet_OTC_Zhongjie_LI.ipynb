{
 "cells": [
  {
   "cell_type": "markdown",
   "id": "6248c131",
   "metadata": {},
   "source": [
    "# L'étude sur la pertinence des patterns de regexp dans la détection de NER tags et sur la distribution des NER tags dans les Wikipédias de fruits et d'entreprises\n",
    "\n",
    "Ce travail consiste à explorer la faisabilité d'utiliser des patterns d'expressions régulières pour la tâche de détection de NER tags dans des textes anglais. Il cherche par ailleurs à évoquer la corrélation entre la longueur de texte et le nombre de NER tags, ainsi que la distribution des 3 NER tags (PERS pour personne, ORG pour organisation, LOC pour localisation) dans les pages Wikipédia de fruits et d'entreprises.\n",
    "\n",
    "Les corpus recueillis sont tirés des sites de Wikipédia dont 15 sur différents fruits et 15 sur des entreprises informatiques. Les liens de chaque page de Wikipédia sont conservés dans deux fichiers .txt : \"fruits.txt\" pour les fruits et \"companies.txt\" pour les entreprises. Chaque lien est séparé par un retour à la ligne. Dans ce travail, nous allons utiliser les modules \"requests\" et \"BeautifulSoup\" pour accéder à chaque lien puis extraire les textes bruts. Comme le principe du travail est la détection de NER tags, nous souhaitons prendre les textes tels quels avec seulement l'enlèvement des signes d'annotation (comme [1] ou [2]).\n",
    "\n",
    "Le contenu de chaque page de Wikipédia sera respectivement conservé dans une liste puis nous procédons à l'augmentation des données, ce qui donnera au total 30 textes pour chaque sujet. 80% des textes seront pris comme corpus d'entraînement.\n",
    "\n",
    "Les corpus d'entraînement seront analysés par les patterns d'expressions régulières. À partir des résultats de prédiction des expressions régulières, nous extrayons les paires \"nombre de tokens : nombre de tags détectés\" pour chaque corpus dans deux dictionnaires (pour les fruits et les entreprises). Puis nous analysons la corrélation et la P-Value entre le nombre de tokens et le nombre de tags. L'analyse sera aussi présentée sous forme de graphes.\n",
    "\n",
    "Par la suite, nous calculons la distribution des 3 NER tags dans le corpus de fruits et celui d'entreprises. Les résultats sont également présentés sous forme de graphes.\n",
    "\n",
    "Le corpus de référence est disponible sur : https://huggingface.co/datasets/conll2003?row=0. Ce corpus traite plusieurs tâches, y compris la détection de POS tags, de Chunk tags et de NER tags. Nous reprenons ici seulement les résultats des NER tags. Nous le transformons d'abord en objet DataFrame, puis le concaténons avec nos propres corpus recueillis.\n",
    "\n",
    "À l'étape de l'évaluation, nous analysons les mêmes corpus d'entraînement avec Spacy afin de fournir les résultats de référence. Ensuite, nous comparons les NER tags détectés par les expressions régulières et ceux par Spacy. Il faut noter que les patterns d'expressions régulières détectent souvent plusieurs NER tags pour un seul token. Nous avons décidé de sauvegarder tous les tags détectés. Les évaluations s'appuient sur la précision, le rappel et la f-mesure. Nous calculons d'abord ces 3 métriques pour chaque token, puis nous faisons la moyenne de ces mesures comme évaluations finales."
   ]
  },
  {
   "cell_type": "markdown",
   "id": "4930c0ae-4a5d-424b-b5a9-3c10c809d0a8",
   "metadata": {},
   "source": [
    "# Boîte à outil"
   ]
  },
  {
   "cell_type": "code",
   "execution_count": 1,
   "id": "66a31940",
   "metadata": {
    "scrolled": true
   },
   "outputs": [
    {
     "name": "stdout",
     "output_type": "stream",
     "text": [
      "Requirement already satisfied: datasets in /Users/zhongjie/miniconda3/envs/tal-ml/lib/python3.10/site-packages (2.19.1)\n",
      "Requirement already satisfied: filelock in /Users/zhongjie/miniconda3/envs/tal-ml/lib/python3.10/site-packages (from datasets) (3.13.1)\n",
      "Requirement already satisfied: numpy>=1.17 in /Users/zhongjie/miniconda3/envs/tal-ml/lib/python3.10/site-packages (from datasets) (1.23.5)\n",
      "Requirement already satisfied: pyarrow>=12.0.0 in /Users/zhongjie/miniconda3/envs/tal-ml/lib/python3.10/site-packages (from datasets) (16.0.0)\n",
      "Requirement already satisfied: pyarrow-hotfix in /Users/zhongjie/miniconda3/envs/tal-ml/lib/python3.10/site-packages (from datasets) (0.6)\n",
      "Requirement already satisfied: dill<0.3.9,>=0.3.0 in /Users/zhongjie/miniconda3/envs/tal-ml/lib/python3.10/site-packages (from datasets) (0.3.8)\n",
      "Requirement already satisfied: pandas in /Users/zhongjie/miniconda3/envs/tal-ml/lib/python3.10/site-packages (from datasets) (1.4.4)\n",
      "Requirement already satisfied: requests>=2.19.0 in /Users/zhongjie/miniconda3/envs/tal-ml/lib/python3.10/site-packages (from datasets) (2.31.0)\n",
      "Requirement already satisfied: tqdm>=4.62.1 in /Users/zhongjie/miniconda3/envs/tal-ml/lib/python3.10/site-packages (from datasets) (4.66.1)\n",
      "Requirement already satisfied: xxhash in /Users/zhongjie/miniconda3/envs/tal-ml/lib/python3.10/site-packages (from datasets) (3.4.1)\n",
      "Requirement already satisfied: multiprocess in /Users/zhongjie/miniconda3/envs/tal-ml/lib/python3.10/site-packages (from datasets) (0.70.16)\n",
      "Requirement already satisfied: fsspec<=2024.3.1,>=2023.1.0 in /Users/zhongjie/miniconda3/envs/tal-ml/lib/python3.10/site-packages (from fsspec[http]<=2024.3.1,>=2023.1.0->datasets) (2024.2.0)\n",
      "Requirement already satisfied: aiohttp in /Users/zhongjie/miniconda3/envs/tal-ml/lib/python3.10/site-packages (from datasets) (3.9.5)\n",
      "Requirement already satisfied: huggingface-hub>=0.21.2 in /Users/zhongjie/miniconda3/envs/tal-ml/lib/python3.10/site-packages (from datasets) (0.21.3)\n",
      "Requirement already satisfied: packaging in /Users/zhongjie/miniconda3/envs/tal-ml/lib/python3.10/site-packages (from datasets) (23.2)\n",
      "Requirement already satisfied: pyyaml>=5.1 in /Users/zhongjie/miniconda3/envs/tal-ml/lib/python3.10/site-packages (from datasets) (6.0.1)\n",
      "Requirement already satisfied: aiosignal>=1.1.2 in /Users/zhongjie/miniconda3/envs/tal-ml/lib/python3.10/site-packages (from aiohttp->datasets) (1.3.1)\n",
      "Requirement already satisfied: attrs>=17.3.0 in /Users/zhongjie/miniconda3/envs/tal-ml/lib/python3.10/site-packages (from aiohttp->datasets) (23.1.0)\n",
      "Requirement already satisfied: frozenlist>=1.1.1 in /Users/zhongjie/miniconda3/envs/tal-ml/lib/python3.10/site-packages (from aiohttp->datasets) (1.4.1)\n",
      "Requirement already satisfied: multidict<7.0,>=4.5 in /Users/zhongjie/miniconda3/envs/tal-ml/lib/python3.10/site-packages (from aiohttp->datasets) (6.0.5)\n",
      "Requirement already satisfied: yarl<2.0,>=1.0 in /Users/zhongjie/miniconda3/envs/tal-ml/lib/python3.10/site-packages (from aiohttp->datasets) (1.9.4)\n",
      "Requirement already satisfied: async-timeout<5.0,>=4.0 in /Users/zhongjie/miniconda3/envs/tal-ml/lib/python3.10/site-packages (from aiohttp->datasets) (4.0.3)\n",
      "Requirement already satisfied: typing-extensions>=3.7.4.3 in /Users/zhongjie/miniconda3/envs/tal-ml/lib/python3.10/site-packages (from huggingface-hub>=0.21.2->datasets) (4.8.0)\n",
      "Requirement already satisfied: charset-normalizer<4,>=2 in /Users/zhongjie/miniconda3/envs/tal-ml/lib/python3.10/site-packages (from requests>=2.19.0->datasets) (3.3.2)\n",
      "Requirement already satisfied: idna<4,>=2.5 in /Users/zhongjie/miniconda3/envs/tal-ml/lib/python3.10/site-packages (from requests>=2.19.0->datasets) (3.4)\n",
      "Requirement already satisfied: urllib3<3,>=1.21.1 in /Users/zhongjie/miniconda3/envs/tal-ml/lib/python3.10/site-packages (from requests>=2.19.0->datasets) (2.0.7)\n",
      "Requirement already satisfied: certifi>=2017.4.17 in /Users/zhongjie/miniconda3/envs/tal-ml/lib/python3.10/site-packages (from requests>=2.19.0->datasets) (2024.2.2)\n",
      "Requirement already satisfied: python-dateutil>=2.8.1 in /Users/zhongjie/miniconda3/envs/tal-ml/lib/python3.10/site-packages (from pandas->datasets) (2.8.2)\n",
      "Requirement already satisfied: pytz>=2020.1 in /Users/zhongjie/miniconda3/envs/tal-ml/lib/python3.10/site-packages (from pandas->datasets) (2023.3.post1)\n",
      "Requirement already satisfied: six>=1.5 in /Users/zhongjie/miniconda3/envs/tal-ml/lib/python3.10/site-packages (from python-dateutil>=2.8.1->pandas->datasets) (1.16.0)\n",
      "Note: you may need to restart the kernel to use updated packages.\n"
     ]
    }
   ],
   "source": [
    "pip install datasets"
   ]
  },
  {
   "cell_type": "code",
   "execution_count": 2,
   "id": "788ec83d",
   "metadata": {
    "scrolled": true
   },
   "outputs": [
    {
     "name": "stdout",
     "output_type": "stream",
     "text": [
      "Requirement already satisfied: imbalanced-learn in /Users/zhongjie/miniconda3/envs/tal-ml/lib/python3.10/site-packages (0.12.2)\n",
      "Requirement already satisfied: numpy>=1.17.3 in /Users/zhongjie/miniconda3/envs/tal-ml/lib/python3.10/site-packages (from imbalanced-learn) (1.23.5)\n",
      "Requirement already satisfied: scipy>=1.5.0 in /Users/zhongjie/miniconda3/envs/tal-ml/lib/python3.10/site-packages (from imbalanced-learn) (1.9.3)\n",
      "Requirement already satisfied: scikit-learn>=1.0.2 in /Users/zhongjie/miniconda3/envs/tal-ml/lib/python3.10/site-packages (from imbalanced-learn) (1.3.2)\n",
      "Requirement already satisfied: joblib>=1.1.1 in /Users/zhongjie/miniconda3/envs/tal-ml/lib/python3.10/site-packages (from imbalanced-learn) (1.3.2)\n",
      "Requirement already satisfied: threadpoolctl>=2.0.0 in /Users/zhongjie/miniconda3/envs/tal-ml/lib/python3.10/site-packages (from imbalanced-learn) (3.2.0)\n",
      "Note: you may need to restart the kernel to use updated packages.\n"
     ]
    }
   ],
   "source": [
    "pip install imbalanced-learn"
   ]
  },
  {
   "cell_type": "code",
   "execution_count": 3,
   "id": "1242a4ba-6638-415e-8104-d72c87cfaf53",
   "metadata": {
    "scrolled": false
   },
   "outputs": [
    {
     "name": "stderr",
     "output_type": "stream",
     "text": [
      "/Users/zhongjie/miniconda3/envs/tal-ml/lib/python3.10/site-packages/tqdm/auto.py:21: TqdmWarning: IProgress not found. Please update jupyter and ipywidgets. See https://ipywidgets.readthedocs.io/en/stable/user_install.html\n",
      "  from .autonotebook import tqdm as notebook_tqdm\n"
     ]
    }
   ],
   "source": [
    "import ast\n",
    "import numpy as np\n",
    "import requests\n",
    "import pandas as pd\n",
    "import datasets\n",
    "from datasets import Dataset, concatenate_datasets, load_dataset\n",
    "from collections import defaultdict\n",
    "import matplotlib.pyplot as plt\n",
    "from pathlib import Path\n",
    "import pickle\n",
    "from dataclasses import dataclass\n",
    "import spacy\n",
    "from nltk.tokenize import sent_tokenize\n",
    "from bs4 import BeautifulSoup\n",
    "import re\n",
    "import random\n",
    "from collections import Counter\n",
    "from imblearn.over_sampling import RandomOverSampler\n",
    "from sklearn.feature_extraction.text import TfidfVectorizer\n",
    "import csv\n",
    "import scipy.stats"
   ]
  },
  {
   "cell_type": "markdown",
   "id": "4c43a83f",
   "metadata": {},
   "source": [
    "## Classes"
   ]
  },
  {
   "cell_type": "code",
   "execution_count": 4,
   "id": "ee43aab9-959b-4546-a8ed-85404f3639dc",
   "metadata": {},
   "outputs": [],
   "source": [
    "\"\"\"\n",
    "Classe Token : représente un token avec son indice, sa forme et son tag NER.\n",
    "- id : l'indice du token (commençant à 0).\n",
    "- forme : la forme du token.\n",
    "- ner_tag : le tag NER du token, représenté par un entier.\n",
    "\n",
    "Classe Result : représente les résultats d'analyse groupés avec leur index et le nombre total de tokens.\n",
    "- id : l'index du corpus (commençant à 1).\n",
    "- datas : une liste de toutes les phrases analysées.\n",
    "- length : le nombre total de tokens dans le corpus.\n",
    "\"\"\"\n",
    "@dataclass\n",
    "class Token:\n",
    "    id: str\n",
    "    forme: str\n",
    "    ner_tag: list\n",
    "\n",
    "@dataclass\n",
    "class Result:\n",
    "    id: int\n",
    "    datas: list\n",
    "    length: int\n"
   ]
  },
  {
   "cell_type": "markdown",
   "id": "806e29bc",
   "metadata": {},
   "source": [
    "# Formation des corpus"
   ]
  },
  {
   "cell_type": "code",
   "execution_count": 5,
   "id": "b15428c5",
   "metadata": {},
   "outputs": [],
   "source": [
    "def recup_web(url: str) -> str:\n",
    "    \"\"\"\n",
    "    Cette fonction récupère le contenu textuel brut d'un site Internet et le retourne.\n",
    "\n",
    "    Args:\n",
    "        url (str): L'URL du site sous forme de chaîne de caractères.\n",
    "\n",
    "    Returns:\n",
    "        str: Le contenu textuel brut du site.\n",
    "    \"\"\"\n",
    "    # Effectue une requête GET pour obtenir le contenu du site\n",
    "    reponse = requests.get(url)\n",
    "\n",
    "    contenu_html = \"\"\n",
    "\n",
    "    # Vérifie le code de réponse\n",
    "    if reponse.status_code == 200:\n",
    "        # Si le code de réponse est 200 (OK), copie le contenu textuel dans \"contenu_html\"\n",
    "        contenu_html = reponse.text\n",
    "    elif reponse.status_code == 300:\n",
    "        # Si le code de réponse est 300 (Redirection), poursuit la redirection et copie le contenu final dans \"contenu_html\" si le code de réponse est 200\n",
    "        url_final = reponse.url\n",
    "        reponse_finale = requests.get(url_final)\n",
    "        if reponse_finale.status_code == 200:\n",
    "            contenu_html = reponse_finale.text\n",
    "    else:\n",
    "        # Si le code de réponse n'est ni 200 ni 300, affiche \"Site inachevable\"\n",
    "        print(\"Site inachevable\")\n",
    "\n",
    "    return contenu_html\n",
    "\n",
    "def html_parser(contenu_html: str) -> str:\n",
    "    \"\"\"\n",
    "    Cette fonction analyse le contenu textuel récupéré à l'aide de BeautifulSoup, \n",
    "    puis retourne les textes présents dans les balises <p>.\n",
    "\n",
    "    Args:\n",
    "        contenu_html (str): Le texte brut d'un site Internet, correctement formaté selon la syntaxe HTML.\n",
    "\n",
    "    Returns:\n",
    "        str: Les textes extraits des balises <p> sous forme d'une seule chaîne de caractères.\n",
    "    \"\"\"\n",
    "    # Parseur HTML\n",
    "    soup = BeautifulSoup(contenu_html, 'html.parser')\n",
    "\n",
    "    corpus = \"\"\n",
    "\n",
    "    # Recherche toutes les balises <p> et ajoute leur contenu à \"corpus\"\n",
    "    for balise in soup.find_all(\"p\", recursive=True):\n",
    "        if balise.text.strip(): \n",
    "            corpus += balise.text.strip() + \"\\n\" \n",
    "\n",
    "    return corpus"
   ]
  },
  {
   "cell_type": "code",
   "execution_count": 6,
   "id": "67c13e84",
   "metadata": {},
   "outputs": [],
   "source": [
    "# Chemins vers les fichiers contenant les URLs des fruits et des entreprises.\n",
    "path_fruits = \"../../src/fruits.txt\"\n",
    "path_companies = \"../../src/companies.txt\"\n",
    "\n",
    "# Ouvrir le fichier d'URLs des fruits\n",
    "with open(path_fruits, 'r', encoding='utf-8') as file:\n",
    "    fruits_urls = file.readlines()\n",
    "\n",
    "# Récupération du contenu HTML pour les sites de fruits\n",
    "corpus_fruits = [] # Le texte brut de chaque site sera stocké dans une liste\n",
    "for idx, url in enumerate(fruits_urls):\n",
    "    url = url.strip()\n",
    "    # Récupération du contenu HTML du site et suppression des nombres entre crochets [1], [10], [22] etc.\n",
    "    contenu_html = recup_web(url)\n",
    "    texte_sans_nombres = re.sub(r\"\\[\\d+\\]\", \"\", contenu_html)\n",
    "    texte_nettoye = html_parser(texte_sans_nombres)\n",
    "    corpus_fruits.append(texte_nettoye)\n",
    "    \n",
    "    # Exporter le corpus brut\n",
    "    with open(f'../../data/raw/{idx+1}_fruit.txt', 'w', encoding='utf-8') as file:\n",
    "        file.write(texte_sans_nombres)\n",
    "    # Exporter le corpus nettoyé\n",
    "    with open(f'../../data/clean/{idx+1}_fruit.txt', 'w', encoding='utf-8') as file:\n",
    "        file.write(texte_nettoye)\n",
    "\n",
    "# La même procédure pour les sites d'entreprises\n",
    "with open(path_companies, 'r', encoding='utf-8') as file:\n",
    "    companies_urls = file.readlines()\n",
    "\n",
    "corpus_companies = []\n",
    "for idx, url in enumerate(companies_urls):\n",
    "    url = url.strip()\n",
    "    # Récupération du contenu HTML du site et suppression des nombres entre crochets [1], [10], [22] etc.\n",
    "    contenu_html = recup_web(url)\n",
    "    texte_sans_nombres = re.sub(r\"\\[\\d+\\]\", \"\", contenu_html)\n",
    "    texte_nettoye = html_parser(texte_sans_nombres)\n",
    "    corpus_companies.append(texte_nettoye)\n",
    "    \n",
    "    # Exporter le corpus brut\n",
    "    with open(f'../../data/raw/{idx+1}_companie.txt', 'w', encoding='utf-8') as file:\n",
    "        file.write(texte_sans_nombres)\n",
    "    # Exporter le corpus nettoyé\n",
    "    with open(f'../../data/clean/{idx+1}_companie.txt', 'w', encoding='utf-8') as file:\n",
    "        file.write(texte_nettoye)"
   ]
  },
  {
   "cell_type": "markdown",
   "id": "c05dd750",
   "metadata": {},
   "source": [
    "## Augmentation des données"
   ]
  },
  {
   "cell_type": "code",
   "execution_count": 7,
   "id": "4cf271a3",
   "metadata": {},
   "outputs": [
    {
     "name": "stdout",
     "output_type": "stream",
     "text": [
      "Nombre de documents pour les fruits après l'augmentation : 30\n",
      "Nombre de documents pour les entreprises après l'augmentation : 30\n"
     ]
    }
   ],
   "source": [
    "# Concaténer les deux corpus\n",
    "corpus_combined = corpus_fruits + corpus_companies\n",
    "\n",
    "# Vectorisation des textes\n",
    "vectorizer = TfidfVectorizer()  # Utilisez TF-IDF pour la vectorisation\n",
    "X = vectorizer.fit_transform(corpus_combined)\n",
    "\n",
    "# Les étiquettes pour l'augmentation des données\n",
    "y = np.concatenate((np.zeros(len(corpus_fruits)), np.ones(len(corpus_companies))))\n",
    "\n",
    "# Augmentation des données aléatoires\n",
    "ros = RandomOverSampler(random_state=0)\n",
    "X_resampled, y_resampled = ros.fit_resample(X, y)\n",
    "\n",
    "# Récupération des indices des échantillons après l'enrechissement des données\n",
    "indices_resampled = ros.sample_indices_\n",
    "\n",
    "# Sélectionner les données correspondantes dans les corpus d'origine\n",
    "X_resampled_corpus = [corpus_combined[i] for i in indices_resampled]\n",
    "y_resampled_labels = [y[i] for i in indices_resampled]\n",
    "\n",
    "# Séparer les échantillons en fonction de leurs classes\n",
    "X_resampled_fruits = [X_resampled_corpus[i] for i in range(len(X_resampled_corpus)) if y_resampled_labels[i] == 0]\n",
    "X_resampled_companies = [X_resampled_corpus[i] for i in range(len(X_resampled_corpus)) if y_resampled_labels[i] == 1]\n",
    "\n",
    "# Concaténer les échantillons enrichis avec les corpus d'origine\n",
    "corpus_fruits.extend(X_resampled_fruits)\n",
    "corpus_companies.extend(X_resampled_companies)\n",
    "\n",
    "# Afficher la taille des corpus enrichis\n",
    "print(\"Nombre de documents pour les fruits après l'augmentation :\", len(corpus_fruits))\n",
    "print(\"Nombre de documents pour les entreprises après l'augmentation :\", len(corpus_companies))\n"
   ]
  },
  {
   "cell_type": "code",
   "execution_count": 8,
   "id": "ea2df2d8",
   "metadata": {},
   "outputs": [
    {
     "name": "stdout",
     "output_type": "stream",
     "text": [
      "Le nombre des corpus d'entraînement pour fruits et entreprises :  24 24\n",
      "Le nombre des corpus de test pour fruits et entreprises :  6 6\n"
     ]
    }
   ],
   "source": [
    "random.seed(42)\n",
    "\n",
    "# Échantilloner 80% des corpus comme le corpus d'entraînement, puis 20% comme le corpus de test\n",
    "train_fruits = random.sample(corpus_fruits, int(len(corpus_fruits) * 0.8))\n",
    "train_companies = random.sample(corpus_companies, int(len(corpus_companies) * 0.8))\n",
    "\n",
    "# Construire un compteur pour chaque corpus dans train_fruits\n",
    "train_fruits_counter = Counter(train_fruits)\n",
    "train_companies_counter = Counter(train_companies)\n",
    "\n",
    "# Construire les corpus restants en retirant un exemplaire de chaque corpus trouvé dans train_fruits\n",
    "test_fruits = []\n",
    "test_companies = []\n",
    "\n",
    "for corpus in corpus_fruits:\n",
    "    if train_fruits_counter[corpus] > 0:\n",
    "        train_fruits_counter[corpus] -= 1\n",
    "    else:\n",
    "        test_fruits.append(corpus)\n",
    "\n",
    "for corpus in corpus_companies:\n",
    "    if train_companies_counter[corpus] > 0:\n",
    "        train_companies_counter[corpus] -= 1\n",
    "    else:\n",
    "        test_companies.append(corpus)\n",
    "\n",
    "print(\"Le nombre des corpus d'entraînement pour fruits et entreprises : \", len(train_fruits), len(train_companies))\n",
    "print(\"Le nombre des corpus de test pour fruits et entreprises : \",len(test_fruits), len(test_companies))"
   ]
  },
  {
   "cell_type": "markdown",
   "id": "5d63857a",
   "metadata": {},
   "source": [
    "# Fonctions pour la détection des NER tags"
   ]
  },
  {
   "cell_type": "code",
   "execution_count": 9,
   "id": "8e8b08b3",
   "metadata": {
    "scrolled": true
   },
   "outputs": [],
   "source": [
    "def get_ner_regexp(sent: str) -> list:\n",
    "    \"\"\"\n",
    "    Cette fonction prend une phrase en tant que corpus et retourne une liste de tags NER pour chaque token.\n",
    "\n",
    "    Args:\n",
    "        sent (str): Une phrase sous forme de chaîne de caractères.\n",
    "\n",
    "    Returns:\n",
    "        list: Une liste de tags NER pour chaque token de la phrase.\n",
    "\n",
    "    Correspondances des chiffres et les NER tags:\n",
    "        dict_ner_tags = {\n",
    "            1: 'B-I-PER',  # Personnes\n",
    "            2: 'B-I-ORG',  # Organisations\n",
    "            3: 'B-I-LOC'   # Lieux\n",
    "            0: Pas de tag\n",
    "        }\n",
    "    Les patterns de regexp sont obtenus dans les liens suivants : \n",
    "    Pour les personnes : https://stackoverflow.com/a/2385967\n",
    "    Pour les organisations : https://stackoverflow.com/a/6505086\n",
    "    Pour les localisations : https://stackoverflow.com/a/25677072\n",
    "    \"\"\"\n",
    "    list_ner_tags = []\n",
    "\n",
    "    # Définition des motifs de correspondance pour chaque type d'entité\n",
    "    patterns = {\n",
    "        '1': r\"\\b^[a-zA-Z ,.\\'-]+$\\b\",  # Personnes\n",
    "        '2': r\"\\b^[A-Z]([a-zA-Z0-9]|[- @\\.#&!])*$\\b\",  # Organisations\n",
    "        '3': r\"\\b^([a-zA-Z\\u0080-\\u024F]+(?:. |-| |'))*[a-zA-Z\\u0080-\\u024F]*$\\b\"  # Lieux\n",
    "    }\n",
    "\n",
    "    for token in sent:\n",
    "        entities = set()\n",
    "        # Recherche des entités dans le texte\n",
    "        for entity_type, pattern in patterns.items():\n",
    "            matches = re.findall(pattern, token.text)\n",
    "            for match in matches:\n",
    "                # Ce qui commence par un espace n'est pas pertinent\n",
    "                if not match.startswith(' '):\n",
    "                    entities.add(int(entity_type))\n",
    "        # Si aucune entité n'est détectée, on attribue 0 comme tag NER\n",
    "        if len(entities) == 0:\n",
    "            entities.add(0)\n",
    "        # Ajoute tous les tags détectés pour un token dans la liste de tags\n",
    "        list_ner_tags.append(list(entities))\n",
    "\n",
    "    return list_ner_tags\n",
    "\n",
    "def get_ner_spacy(doc: spacy.tokens.doc.Doc) -> list:\n",
    "    \"\"\"\n",
    "    Cette fonction retourne une liste de tags NER pour tous les tokens d'une phrase analysée par Spacy.\n",
    "\n",
    "    Args:\n",
    "        doc (spacy.tokens.doc.Doc): Une phrase déjà analysée et analysée par Spacy.\n",
    "\n",
    "    Returns:\n",
    "        list: Une liste de tags NER pour chaque token de la phrase.\n",
    "\n",
    "    Correspondances entre les chiffres et les tags NER :\n",
    "        dict_ner_tags = {\n",
    "            1: 'B-I-PER',  # Personnes\n",
    "            2: 'B-I-ORG',  # Organisations\n",
    "            3: 'B-I-LOC'   # Lieux\n",
    "            0: Pas de tag\n",
    "        }\n",
    "    \"\"\"\n",
    "    # Initialiser une liste de tags NER vide\n",
    "    list_ner_tags = []\n",
    "\n",
    "    # Parcourir toutes les entités nommées de la phrase\n",
    "    for ent in doc.ents:\n",
    "        # Initialiser un tag NER vide pour chaque token\n",
    "        ner_tag = 0\n",
    "        # Associer un tag NER en fonction de l'entité nommée détectée par Spacy\n",
    "        if ent.label_ == \"PERSON\":\n",
    "            ner_tag = 1\n",
    "        elif ent.label_ == \"ORG\":\n",
    "            ner_tag = 2\n",
    "        elif ent.label_ == \"GPE\":\n",
    "            ner_tag = 3\n",
    "        list_ner_tags.append(ner_tag)\n",
    "\n",
    "    return list_ner_tags\n",
    "\n",
    "def get_analyze(corpus: str, regexp: bool) -> list:\n",
    "    \"\"\"\n",
    "    Cette fonction prend un corpus nettoyé et retourne une liste de dictionnaires.\n",
    "    Chaque dictionnaire représente une phrase analysée avec tous les tokens et tous les tags analysés.\n",
    "    Les NER tags sont trouvés soit avec les expressions régulières, soit avec Spacy.\n",
    "\n",
    "    Args:\n",
    "        corpus (str): Le corpus nettoyé sans balises et prétraité.\n",
    "        regexp (bool): True pour utiliser les patterns de regex, False pour utiliser Spacy.\n",
    "\n",
    "    Returns:\n",
    "        list: Une liste de dictionnaires représentant chaque phrase analysée.\n",
    "              Chaque dictionnaire contient les tokens et les tags NER de la phrase.\n",
    "\n",
    "    Paramètres:\n",
    "    - corpus : Un string, le corpus nettoyé et prétraité.\n",
    "    - regexp : True pour utiliser les patterns de regex, False pour utiliser Spacy.\n",
    "    \"\"\"\n",
    "\n",
    "    # Chargement du modèle Spacy pour la tokenisation\n",
    "    nlp = spacy.load(\"en_core_web_sm\")\n",
    "\n",
    "    # Utilisation de NLTK pour segmenter le corpus en phrases\n",
    "    list_sents = sent_tokenize(corpus)\n",
    "\n",
    "    # Initialisation des listes pour stocker les phrases analysées et les tokens\n",
    "    list_sents_nlp = []\n",
    "    list_tokens = []\n",
    "\n",
    "    # Analyse de chaque phrase avec Spacy\n",
    "    for sent in list_sents:\n",
    "        sent_nlp = nlp(sent)\n",
    "        list_sents_nlp.append(sent_nlp)\n",
    "\n",
    "    # Parcours de chaque phrase analysée par Spacy\n",
    "    for i, sent in enumerate(list_sents_nlp):\n",
    "        list_tokens.append([])  # Initialisation de la liste des tokens pour chaque phrase\n",
    "\n",
    "        # Parcours des tokens de la phrase\n",
    "        for tok in sent:\n",
    "            # Initialisation d'un objet Token avec son indice, sa forme et un tag NER de 0\n",
    "            token = Token(int(tok.i), str(tok.text), [0])\n",
    "            list_tokens[-1].append(token)  # Ajout du token à la liste des tokens de la phrase\n",
    "\n",
    "        # Récupération des tags NER avec les patterns si regexp est True, sinon avec Spacy\n",
    "        if regexp:\n",
    "            for ii, ner in enumerate(get_ner_regexp(sent)):\n",
    "                if ner != 0:\n",
    "                    list_tokens[i][ii].ner_tag = ner\n",
    "        else:\n",
    "            for ii, ner in enumerate(get_ner_spacy(sent)):\n",
    "                if ner != 0:\n",
    "                    list_tokens[i][ii].ner_tag = [ner]\n",
    "    \n",
    "    # Construction de la liste de sortie contenant les dictionnaires représentant chaque phrase analysée\n",
    "    list_dict_results = []\n",
    "    for i, sent in enumerate(list_tokens):\n",
    "        dict_results = {}  # Initialisation du dictionnaire pour une phrase\n",
    "        list_formes = [tok.forme for tok in sent]  # Formes de tous les tokens\n",
    "        list_ners = [tok.ner_tag for tok in sent]  # Tags NER de tous les tokens\n",
    "        dict_results['id'] = str(i)  # Indice de la phrase\n",
    "        dict_results['tokens'] = list_formes  # Formes des tokens\n",
    "        dict_results['ner_tags'] = list_ners  # Tags NER des tokens\n",
    "        list_dict_results.append(dict_results)  # Ajout du dictionnaire à la liste de sortie\n",
    "    \n",
    "    return list_dict_results\n",
    "\n",
    "def get_results(data: list, objet: str, regexp: bool) -> None:\n",
    "    \"\"\"\n",
    "    Cette fonction prend une liste de données, qui peut être une liste de corpus de sites sur les fruits ou sur les entreprises.\n",
    "    Elle récupère le contenu de chaque URL, trouve les NER tags avec Spacy ou avec les expressions régulières, puis écrit les résultats dans des fichiers TSV et des fichiers pickle externes.\n",
    "\n",
    "    Args:\n",
    "        data (list): Une liste de corpus de sites web.\n",
    "        objet (str): 'fruit' pour analyser les sites sur les fruits, sinon pour analyser les sites sur les entreprises.\n",
    "        regexp (bool): True pour utiliser les expressions régulières pour trouver les NER tags, False pour utiliser Spacy.\n",
    "\n",
    "    Parameters:\n",
    "        - data: Une liste de corpus de sites web.\n",
    "        - objet: 'fruit' ou autre. Utilisez 'fruit' pour analyser les sites sur les fruits, sinon pour analyser les sites sur les entreprises.\n",
    "        - regexp: True pour utiliser les expressions régulières pour trouver les NER tags, False pour utiliser Spacy.\n",
    "    \"\"\"\n",
    "\n",
    "    list_corpus = []\n",
    "    for corpus in data:\n",
    "        # Obtenir les résultats d'analyse pour chaque corpus\n",
    "        list_dict_results = get_analyze(corpus, regexp)\n",
    "        list_corpus.append(list_dict_results)\n",
    "\n",
    "    all_corpus = []\n",
    "    for i, corpus in enumerate(list_corpus):\n",
    "        # Obtenir le nombre total de tokens dans chaque corpus\n",
    "        length = sum([len(c['tokens']) for c in corpus])\n",
    "        all_corpus.append(Result(i+1, corpus, length))\n",
    "\n",
    "    # Déterminer le chemin de sortie en fonction de l'objet ('fruit' ou autre)\n",
    "    if objet == \"fruit\":\n",
    "        output_path = 'tableau_output_fruits'\n",
    "    else:\n",
    "        output_path = 'tableau_output_companies'\n",
    "    \n",
    "    # Sauvegarder les résultats sous forme de fichiers TSV et de fichiers pickle\n",
    "    if regexp:\n",
    "        # Si regexp est True, utiliser les expressions régulières pour trouver les NER tags\n",
    "        for i, corpus in enumerate(all_corpus):\n",
    "            with open(\"../../results/tableaux_pred/\"+str(i+1)+\"_\"+output_path+\".tsv\", 'w') as csvfile:\n",
    "                writer = csv.writer(csvfile, delimiter=\"\\t\")\n",
    "                writer.writerow(corpus.datas[0].keys())\n",
    "                for sent in corpus.datas:\n",
    "                    writer.writerow([sent['id'], sent['tokens'], sent['ner_tags']])\n",
    "            with open(\"../../results/results_pred/\"+str(i+1)+\"_\"+output_path+\".pkl\", 'wb') as pickle_file:\n",
    "                pickle.dump(corpus, pickle_file)\n",
    "    else:\n",
    "        # Si regexp est False, utiliser Spacy pour trouver les NER tags\n",
    "        for i, corpus in enumerate(all_corpus):\n",
    "            with open(\"../../results/tableaux_ref/\"+str(i+1)+\"_\"+output_path+\".tsv\", 'w') as csvfile:\n",
    "                writer = csv.writer(csvfile, delimiter=\"\\t\")\n",
    "                writer.writerow(corpus.datas[0].keys())\n",
    "                for sent in corpus.datas:\n",
    "                    writer.writerow([sent['id'], sent['tokens'], sent['ner_tags']])\n",
    "            with open(\"../../results/results_ref/\"+str(i+1)+\"_\"+output_path+\".pkl\", 'wb') as pickle_file:\n",
    "                pickle.dump(corpus, pickle_file)  \n",
    "\n",
    "    return all_corpus"
   ]
  },
  {
   "cell_type": "markdown",
   "id": "7a8d3733",
   "metadata": {},
   "source": [
    "# Résultats de prédiction"
   ]
  },
  {
   "cell_type": "code",
   "execution_count": 10,
   "id": "07845a76",
   "metadata": {},
   "outputs": [],
   "source": [
    "# Génération des résultats de prédiction pour les fruits et pour les entreprises.\n",
    "results_fruits_pred = get_results(train_fruits, 'fruit', True)\n",
    "results_companies_pred = get_results(train_companies, 'companies', True)"
   ]
  },
  {
   "cell_type": "markdown",
   "id": "f2bc0894",
   "metadata": {},
   "source": [
    "## Mettre les nombres de tokens de chaque corpus et leurs nombres de NER tags dans des dictionnaires"
   ]
  },
  {
   "cell_type": "code",
   "execution_count": 11,
   "id": "7f4584cf",
   "metadata": {
    "scrolled": true
   },
   "outputs": [
    {
     "name": "stdout",
     "output_type": "stream",
     "text": [
      "Pour les fruits : \n",
      "\tLe nombre de tokens : 3769 \tLe nombre de NER tags : 2256\n",
      "\tLe nombre de tokens : 3149 \tLe nombre de NER tags : 2416\n",
      "\tLe nombre de tokens : 6511 \tLe nombre de NER tags : 3968\n",
      "\tLe nombre de tokens : 2404 \tLe nombre de NER tags : 1456\n",
      "\tLe nombre de tokens : 4395 \tLe nombre de NER tags : 2736\n",
      "\tLe nombre de tokens : 1479 \tLe nombre de NER tags : 1056\n",
      "\tLe nombre de tokens : 1683 \tLe nombre de NER tags : 1248\n",
      "\tLe nombre de tokens : 3898 \tLe nombre de NER tags : 2640\n",
      "\tLe nombre de tokens : 5863 \tLe nombre de NER tags : 3648\n",
      "\tLe nombre de tokens : 7292 \tLe nombre de NER tags : 4560\n",
      "\tLe nombre de tokens : 2202 \tLe nombre de NER tags : 1264\n",
      "\tLe nombre de tokens : 3092 \tLe nombre de NER tags : 1776\n",
      "\tLe nombre de tokens : 2361 \tLe nombre de NER tags : 1312\n",
      "\tLe nombre de tokens : 2668 \tLe nombre de NER tags : 1616\n",
      "\tLe nombre de tokens : 1232 \tLe nombre de NER tags : 704\n",
      "\n",
      "Pour les entreprises : \n",
      "\tLe nombre de tokens : 13799 \tLe nombre de NER tags : 6848\n",
      "\tLe nombre de tokens : 1802 \tLe nombre de NER tags : 1136\n",
      "\tLe nombre de tokens : 13048 \tLe nombre de NER tags : 8304\n",
      "\tLe nombre de tokens : 727 \tLe nombre de NER tags : 432\n",
      "\tLe nombre de tokens : 933 \tLe nombre de NER tags : 624\n",
      "\tLe nombre de tokens : 12343 \tLe nombre de NER tags : 6368\n",
      "\tLe nombre de tokens : 1631 \tLe nombre de NER tags : 1024\n",
      "\tLe nombre de tokens : 16662 \tLe nombre de NER tags : 8688\n",
      "\tLe nombre de tokens : 11457 \tLe nombre de NER tags : 5920\n",
      "\tLe nombre de tokens : 5991 \tLe nombre de NER tags : 3248\n",
      "\tLe nombre de tokens : 2086 \tLe nombre de NER tags : 960\n",
      "\tLe nombre de tokens : 4004 \tLe nombre de NER tags : 2176\n",
      "\tLe nombre de tokens : 12039 \tLe nombre de NER tags : 6208\n",
      "\tLe nombre de tokens : 5456 \tLe nombre de NER tags : 3072\n"
     ]
    }
   ],
   "source": [
    "# Initialisation des dictionnaires pour stocker le nombre de NER tags par nombre de tokens\n",
    "len_tags_fruits: dict = defaultdict(int)\n",
    "len_tags_companies: dict = defaultdict(int)\n",
    "\n",
    "# Calcul du nombre de NER tags pour chaque corpus de fruits\n",
    "for c in results_fruits_pred:\n",
    "    nb_tags = 0\n",
    "    # Parcours de chaque phrase analysée dans le corpus\n",
    "    for sent in c.datas:\n",
    "        # Parcours des tags de chaque token dans la phrase\n",
    "        for tags in sent:\n",
    "            if tags != [0]:\n",
    "                nb_tags += len(tags)\n",
    "    len_tags_fruits[c.length] = nb_tags\n",
    "\n",
    "# Calcul du nombre de NER tags pour chaque corpus d'entreprises\n",
    "for c in results_companies_pred:\n",
    "    nb_tags = 0\n",
    "    # Parcours de chaque phrase analysée dans le corpus\n",
    "    for sent in c.datas:\n",
    "        # Parcours des tags de chaque token dans la phrase\n",
    "        for tags in sent:\n",
    "            if tags != [0]:\n",
    "                nb_tags += len(tags)\n",
    "    len_tags_companies[c.length] = nb_tags\n",
    "    \n",
    "# Affichage des résultats pour les fruits\n",
    "print(\"Pour les fruits : \")\n",
    "for k, v in len_tags_fruits.items():\n",
    "    print(\"\\tLe nombre de tokens :\", k, \"\\tLe nombre de NER tags :\", v)\n",
    "\n",
    "# Affichage des résultats pour les entreprises\n",
    "print(\"\\nPour les entreprises : \")\n",
    "for k, v in len_tags_companies.items():\n",
    "    print(\"\\tLe nombre de tokens :\", k, \"\\tLe nombre de NER tags :\", v)"
   ]
  },
  {
   "cell_type": "markdown",
   "id": "009a263d",
   "metadata": {},
   "source": [
    "# Visualisation des résultats en graphes"
   ]
  },
  {
   "cell_type": "markdown",
   "id": "b62dffe7",
   "metadata": {},
   "source": [
    "## Corrélation entre nombre de tokens et nombre de NER tags avec le calcul de la P-Value"
   ]
  },
  {
   "cell_type": "code",
   "execution_count": 12,
   "id": "3990deb1",
   "metadata": {
    "scrolled": false
   },
   "outputs": [
    {
     "name": "stdout",
     "output_type": "stream",
     "text": [
      "Corrélation de Pearson pour les fruits : 0.9895138657693971\n",
      "P Value pour les fruits : 2.608815273438697e-12\n",
      "Corrélation de Pearson pour les entreprises : 0.9901300704243456\n",
      "P Value pour les entreprises : 1.306691933447552e-11\n"
     ]
    },
    {
     "data": {
      "image/png": "[encoded data removed]",
      "text/plain": [
       "<Figure size 1000x500 with 2 Axes>"
      ]
     },
     "metadata": {},
     "output_type": "display_data"
    }
   ],
   "source": [
    "# Obtenir les clés et les valeurs des deux dictionnaires\n",
    "cles_fruits = np.array(list(len_tags_fruits.keys()))\n",
    "valeurs_fruits = np.array(list(len_tags_fruits.values()))\n",
    "\n",
    "cles_companies = np.array(list(len_tags_companies.keys()))\n",
    "valeurs_companies = np.array(list(len_tags_companies.values()))\n",
    "\n",
    "# Calculer la corrélation de Pearson et la valeur P pour les clés et les valeurs\n",
    "corr_fruits, p_value_fruits = scipy.stats.pearsonr(cles_fruits, valeurs_fruits)\n",
    "corr_companies, p_value_companies = scipy.stats.pearsonr(cles_companies, valeurs_companies)\n",
    "\n",
    "# Afficher les résultats\n",
    "print(\"Corrélation de Pearson pour les fruits :\", corr_fruits)\n",
    "print(\"P Value pour les fruits :\", p_value_fruits)\n",
    "\n",
    "print(\"Corrélation de Pearson pour les entreprises :\", corr_companies)\n",
    "print(\"P Value pour les entreprises :\", p_value_companies)\n",
    "\n",
    "# Visualisation avec un nuage de points\n",
    "plt.figure(figsize=(10, 5))\n",
    "\n",
    "plt.subplot(1, 2, 1)\n",
    "plt.scatter(cles_fruits, valeurs_fruits)\n",
    "plt.xlabel(\"Nombre de tokens\")\n",
    "plt.ylabel(\"Nombre de tags\")\n",
    "plt.title(\"Corrélation de Pearson pour les fruits\")\n",
    "\n",
    "plt.subplot(1, 2, 2)\n",
    "plt.scatter(cles_companies, valeurs_companies)\n",
    "plt.xlabel(\"Nombre de tokens\")\n",
    "plt.ylabel(\"Nombre de tags\")\n",
    "plt.title(\"Corrélation de Pearson pour les entreprises\")\n",
    "\n",
    "plt.tight_layout()\n",
    "plt.show()"
   ]
  },
  {
   "cell_type": "markdown",
   "id": "f95cbbf0",
   "metadata": {},
   "source": [
    "Ces résultats indiquent une forte corrélation positive entre le nombre de tokens et le nombre de NER tags à la fois pour les fruits et pour les entreprises.\n",
    "\n",
    "Pour les fruits, la corrélation de Pearson est d'environ 0.9889, ce qui indique une forte corrélation positive presque parfaite entre le nombre de tokens et le nombre de NER tags. Cependant, la p-value associée est extrêmement faible (3.734067466205351e-12), largement en dessous du seuil par défaut 0.05. Cela suggère qu'il est très improbable d'observer une corrélation aussi forte entre ces deux variables dans un échantillon aléatoire s'il n'y avait pas de relation réelle entre elles.\n",
    "\n",
    "Pour les entreprises, la corrélation de Pearson est un peu supérieure à celle des fruits, à environ 0.99097. Tout comme pour les fruits, la p-value est très faible (7.658206803762473e-12), ce qui renforce l'idée que la corrélation observée est très improbable."
   ]
  },
  {
   "cell_type": "markdown",
   "id": "f1bf6f89",
   "metadata": {},
   "source": [
    "## Avec la loi de Zipf"
   ]
  },
  {
   "cell_type": "code",
   "execution_count": 13,
   "id": "6c236b1f",
   "metadata": {
    "scrolled": true
   },
   "outputs": [
    {
     "data": {
      "image/png": "[encoded data removed]",
      "text/plain": [
       "<Figure size 1500x500 with 2 Axes>"
      ]
     },
     "metadata": {},
     "output_type": "display_data"
    }
   ],
   "source": [
    "# Calculer le nombre total de tokens dans chaque dictionnaire\n",
    "total_tokens_fruits = sum(len_tags_fruits.keys())\n",
    "total_tokens_companies = sum(len_tags_companies.keys())\n",
    "\n",
    "# Calculer la distribution de zipf\n",
    "def zipf_distribution(n:int, total_tokens:int):\n",
    "    return np.array([v / total_tokens for v in range(1, n+1)])\n",
    "\n",
    "max_len_fruits = max(len_tags_fruits)\n",
    "max_len_companies = max(len_tags_companies)\n",
    "\n",
    "zipf_values_fruits = zipf_distribution(max_len_fruits, total_tokens_fruits)\n",
    "zipf_values_companies = zipf_distribution(max_len_companies, total_tokens_companies)\n",
    "\n",
    "# Visualisation avec un nuage de points et la loi de zipf\n",
    "plt.figure(figsize=(15, 5))\n",
    "\n",
    "plt.subplot(1, 2, 1)\n",
    "plt.scatter(list(len_tags_fruits.keys()), list(len_tags_fruits.values()), label='Données réelles')\n",
    "plt.plot(zipf_values_fruits * max(list(len_tags_fruits.values())), label='Loi de zipf', color='orange', linestyle='--')\n",
    "plt.xlabel(\"Nombre de tokens\")\n",
    "plt.ylabel(\"Nombre de tags\")\n",
    "plt.title(\"Corrélation de Pearson pour len_tags_fruits\")\n",
    "plt.legend()\n",
    "\n",
    "plt.subplot(1, 2, 2)\n",
    "plt.scatter(list(len_tags_companies.keys()), list(len_tags_companies.values()), label='Données réelles')\n",
    "plt.plot(zipf_values_companies * max(list(len_tags_companies.values())), label='Loi de zipf', color='blue', linestyle='--')\n",
    "plt.xlabel(\"Nombre de tokens\")\n",
    "plt.ylabel(\"Nombre de tags\")\n",
    "plt.title(\"Corrélation de Pearson pour len_tags_companies\")\n",
    "plt.legend()\n",
    "\n",
    "plt.tight_layout()\n",
    "plt.show()\n"
   ]
  },
  {
   "cell_type": "markdown",
   "id": "a9685f0f",
   "metadata": {},
   "source": [
    "## Mettre les deux graphes ensemble"
   ]
  },
  {
   "cell_type": "code",
   "execution_count": 14,
   "id": "8e35bb62",
   "metadata": {
    "scrolled": false
   },
   "outputs": [
    {
     "data": {
      "image/png": "[encoded data removed]",
      "text/plain": [
       "<Figure size 1000x500 with 1 Axes>"
      ]
     },
     "metadata": {},
     "output_type": "display_data"
    }
   ],
   "source": [
    "# Visualisation avec un nuage de points et la loi de zipf\n",
    "plt.figure(figsize=(10, 5))\n",
    "\n",
    "# Le graphe pour les fruits\n",
    "plt.scatter(list(len_tags_fruits.keys()), list(len_tags_fruits.values()), label='Données réelles (Fruits)')\n",
    "plt.plot(zipf_values_fruits * max(list(len_tags_fruits.values())), label='Loi de Zipf (Fruits)', color='red', linestyle='--')\n",
    "\n",
    "# Le graphe pour les entreprises\n",
    "plt.scatter(list(len_tags_companies.keys()), list(len_tags_companies.values()), label='Données réelles (Companies)')\n",
    "plt.plot(zipf_values_companies * max(list(len_tags_companies.values())), label='Loi de Zipf (Companies)', color='blue', linestyle='--')\n",
    "\n",
    "plt.xlabel(\"Nombre de tokens\")\n",
    "plt.ylabel(\"Nombre de tags\")\n",
    "plt.title(\"Corrélation de Pearson pour len_tags_fruits et len_tags_companies\")\n",
    "plt.legend()\n",
    "\n",
    "plt.tight_layout()\n",
    "plt.show()"
   ]
  },
  {
   "cell_type": "markdown",
   "id": "d9281340",
   "metadata": {},
   "source": [
    "# Concaténation du corpus de référence et des nouveaux corpus"
   ]
  },
  {
   "cell_type": "markdown",
   "id": "30552ed1",
   "metadata": {},
   "source": [
    "## Ce bloc importe le corpus de référence puis le transforme en DataFrame"
   ]
  },
  {
   "cell_type": "code",
   "execution_count": 15,
   "id": "fb5767ab",
   "metadata": {},
   "outputs": [
    {
     "data": {
      "text/html": [
       "<div>\n",
       "<style scoped>\n",
       "    .dataframe tbody tr th:only-of-type {\n",
       "        vertical-align: middle;\n",
       "    }\n",
       "\n",
       "    .dataframe tbody tr th {\n",
       "        vertical-align: top;\n",
       "    }\n",
       "\n",
       "    .dataframe thead th {\n",
       "        text-align: right;\n",
       "    }\n",
       "</style>\n",
       "<table border=\"1\" class=\"dataframe\">\n",
       "  <thead>\n",
       "    <tr style=\"text-align: right;\">\n",
       "      <th></th>\n",
       "      <th>id</th>\n",
       "      <th>tokens</th>\n",
       "      <th>ner_tags</th>\n",
       "      <th>indice_tableau</th>\n",
       "    </tr>\n",
       "  </thead>\n",
       "  <tbody>\n",
       "    <tr>\n",
       "      <th>0</th>\n",
       "      <td>0</td>\n",
       "      <td>[EU, rejects, German, call, to, boycott, Briti...</td>\n",
       "      <td>[[3], [0], [7], [0], [0], [0], [7], [0], [0]]</td>\n",
       "      <td>tableau reference</td>\n",
       "    </tr>\n",
       "    <tr>\n",
       "      <th>1</th>\n",
       "      <td>1</td>\n",
       "      <td>[Peter, Blackburn]</td>\n",
       "      <td>[[1], [2]]</td>\n",
       "      <td>tableau reference</td>\n",
       "    </tr>\n",
       "    <tr>\n",
       "      <th>2</th>\n",
       "      <td>2</td>\n",
       "      <td>[BRUSSELS, 1996-08-22]</td>\n",
       "      <td>[[5], [0]]</td>\n",
       "      <td>tableau reference</td>\n",
       "    </tr>\n",
       "    <tr>\n",
       "      <th>3</th>\n",
       "      <td>3</td>\n",
       "      <td>[The, European, Commission, said, on, Thursday...</td>\n",
       "      <td>[[0], [3], [4], [0], [0], [0], [0], [0], [0], ...</td>\n",
       "      <td>tableau reference</td>\n",
       "    </tr>\n",
       "    <tr>\n",
       "      <th>4</th>\n",
       "      <td>4</td>\n",
       "      <td>[Germany, 's, representative, to, the, Europea...</td>\n",
       "      <td>[[5], [0], [0], [0], [0], [3], [4], [0], [0], ...</td>\n",
       "      <td>tableau reference</td>\n",
       "    </tr>\n",
       "    <tr>\n",
       "      <th>...</th>\n",
       "      <td>...</td>\n",
       "      <td>...</td>\n",
       "      <td>...</td>\n",
       "      <td>...</td>\n",
       "    </tr>\n",
       "    <tr>\n",
       "      <th>14036</th>\n",
       "      <td>14036</td>\n",
       "      <td>[on, Friday, :]</td>\n",
       "      <td>[[0], [0], [0]]</td>\n",
       "      <td>tableau reference</td>\n",
       "    </tr>\n",
       "    <tr>\n",
       "      <th>14037</th>\n",
       "      <td>14037</td>\n",
       "      <td>[Division, two]</td>\n",
       "      <td>[[0], [0]]</td>\n",
       "      <td>tableau reference</td>\n",
       "    </tr>\n",
       "    <tr>\n",
       "      <th>14038</th>\n",
       "      <td>14038</td>\n",
       "      <td>[Plymouth, 2, Preston, 1]</td>\n",
       "      <td>[[3], [0], [3], [0]]</td>\n",
       "      <td>tableau reference</td>\n",
       "    </tr>\n",
       "    <tr>\n",
       "      <th>14039</th>\n",
       "      <td>14039</td>\n",
       "      <td>[Division, three]</td>\n",
       "      <td>[[0], [0]]</td>\n",
       "      <td>tableau reference</td>\n",
       "    </tr>\n",
       "    <tr>\n",
       "      <th>14040</th>\n",
       "      <td>14040</td>\n",
       "      <td>[Swansea, 1, Lincoln, 2]</td>\n",
       "      <td>[[3], [0], [3], [0]]</td>\n",
       "      <td>tableau reference</td>\n",
       "    </tr>\n",
       "  </tbody>\n",
       "</table>\n",
       "<p>14041 rows × 4 columns</p>\n",
       "</div>"
      ],
      "text/plain": [
       "          id                                             tokens  \\\n",
       "0          0  [EU, rejects, German, call, to, boycott, Briti...   \n",
       "1          1                                 [Peter, Blackburn]   \n",
       "2          2                             [BRUSSELS, 1996-08-22]   \n",
       "3          3  [The, European, Commission, said, on, Thursday...   \n",
       "4          4  [Germany, 's, representative, to, the, Europea...   \n",
       "...      ...                                                ...   \n",
       "14036  14036                                    [on, Friday, :]   \n",
       "14037  14037                                    [Division, two]   \n",
       "14038  14038                          [Plymouth, 2, Preston, 1]   \n",
       "14039  14039                                  [Division, three]   \n",
       "14040  14040                           [Swansea, 1, Lincoln, 2]   \n",
       "\n",
       "                                                ner_tags     indice_tableau  \n",
       "0          [[3], [0], [7], [0], [0], [0], [7], [0], [0]]  tableau reference  \n",
       "1                                             [[1], [2]]  tableau reference  \n",
       "2                                             [[5], [0]]  tableau reference  \n",
       "3      [[0], [3], [4], [0], [0], [0], [0], [0], [0], ...  tableau reference  \n",
       "4      [[5], [0], [0], [0], [0], [3], [4], [0], [0], ...  tableau reference  \n",
       "...                                                  ...                ...  \n",
       "14036                                    [[0], [0], [0]]  tableau reference  \n",
       "14037                                         [[0], [0]]  tableau reference  \n",
       "14038                               [[3], [0], [3], [0]]  tableau reference  \n",
       "14039                                         [[0], [0]]  tableau reference  \n",
       "14040                               [[3], [0], [3], [0]]  tableau reference  \n",
       "\n",
       "[14041 rows x 4 columns]"
      ]
     },
     "metadata": {},
     "output_type": "display_data"
    }
   ],
   "source": [
    "# Charger le dataset conll2003\n",
    "dataset = load_dataset(\"conll2003\")\n",
    "dataset_reference = dataset['train']\n",
    "tableau_reference = dataset_reference.to_pandas()\n",
    "\n",
    "# Supprimer les colonnes \"pos_tags\" et \"chunk_tags\"\n",
    "tableau_reference.drop(columns=[\"pos_tags\", \"chunk_tags\"], inplace=True)\n",
    "\n",
    "# Ajouter une colonne \"indice_tableau\" avec la valeur \"tableau reference\"\n",
    "tableau_reference = tableau_reference.assign(indice_tableau=\"tableau reference\")\n",
    "\n",
    "# Convertir chaque objet de np.array dans \"ner_tags\" en une liste\n",
    "tableau_reference['ner_tags'] = tableau_reference['ner_tags'].apply(lambda tags: [[nb] for nb in tags])\n",
    "\n",
    "# Afficher le DataFrame après transformation\n",
    "display(tableau_reference)\n"
   ]
  },
  {
   "cell_type": "markdown",
   "id": "75ba790a",
   "metadata": {},
   "source": [
    "## Pré-traiter les nouveaux corpus créés et les concatener avec le corpus de référence"
   ]
  },
  {
   "cell_type": "code",
   "execution_count": 16,
   "id": "7e86a67a",
   "metadata": {},
   "outputs": [],
   "source": [
    "def string_to_numpy_array(string_list: list) -> np.ndarray:\n",
    "    \"\"\"\n",
    "    Convertit une liste de chaînes de caractères en tableau numpy.\n",
    "\n",
    "    Cette fonction prend une liste de chaînes de caractères représentant des listes,\n",
    "    puis transforme chaque élément de la liste en un tableau numpy.\n",
    "\n",
    "    Args:\n",
    "        string_list (list): Une colonne de DataFrame représentée sous forme de liste de chaînes de caractères.\n",
    "\n",
    "    Returns:\n",
    "        np.ndarray: Un tableau numpy contenant les données transformées.\n",
    "\n",
    "    Parameters:\n",
    "        - string_list (list): Une colonne de DataFrame à convertir en tableau numpy.\n",
    "    \"\"\"\n",
    "    python_list = ast.literal_eval(string_list)\n",
    "    numpy_array = np.array(python_list)\n",
    "    return numpy_array"
   ]
  },
  {
   "cell_type": "code",
   "execution_count": 17,
   "id": "ac5ef291",
   "metadata": {},
   "outputs": [],
   "source": [
    "def pre_processing_tableau(tableau: pd.core.frame.DataFrame) -> pd.core.frame.DataFrame:\n",
    "    \"\"\"\n",
    "    Prétraitement d'un DataFrame contenant des corpus.\n",
    "\n",
    "    Cette fonction prétraite les données du DataFrame en effectuant les opérations suivantes :\n",
    "    - Convertit la colonne 'id' en chaînes de caractères.\n",
    "    - Réinitialise l'index du DataFrame.\n",
    "\n",
    "    Args:\n",
    "        tableau (pd.core.frame.DataFrame): Le DataFrame à prétraiter.\n",
    "\n",
    "    Returns:\n",
    "        pd.core.frame.DataFrame: Le DataFrame prétraité.\n",
    "\n",
    "    Parameters:\n",
    "        - tableau (pd.core.frame.DataFrame): Le DataFrame contenant les corpus à prétraiter.\n",
    "    \"\"\"\n",
    "    tableau['id'] = tableau['id'].astype(str)\n",
    "    \n",
    "    tableau.reset_index(drop=True, inplace=True)\n",
    "\n",
    "    return tableau"
   ]
  },
  {
   "cell_type": "code",
   "execution_count": 18,
   "id": "3c793c63",
   "metadata": {},
   "outputs": [],
   "source": [
    "# Définir le répertoire contenant les tableaux de prédiction\n",
    "rep_tables = Path(\"../../results/tableaux_pred/\")\n",
    "\n",
    "# Liste pour stocker tous les DataFrames des tableaux\n",
    "dfs_companies = []\n",
    "dfs_fruits = []\n",
    "\n",
    "# Parcourir les tableaux des companies\n",
    "for idx, tableau in enumerate(rep_tables.glob(\"*companies*.tsv\")):\n",
    "    df = pd.read_csv(tableau, delimiter='\\t')  # Lire le tableau TSV\n",
    "    df['indice_tableau'] = f'companies {idx+1}'  # Ajouter une colonne pour l'indice du tableau\n",
    "    dfs_companies.append(df)  # Ajouter le DataFrame à la liste\n",
    "\n",
    "# La même chose pour les fruits\n",
    "for idx, tableau in enumerate(rep_tables.glob(\"*fruits*.tsv\")):\n",
    "    df = pd.read_csv(tableau, delimiter='\\t')  # Lire le tableau TSV\n",
    "    df['indice_tableau'] = f'fruits {idx+1}'  # Ajouter une colonne pour l'indice du tableau\n",
    "    dfs_fruits.append(df)  # Ajouter le DataFrame à la liste\n",
    "\n",
    "# Concaténer tous les DataFrames dans un seul DataFrame\n",
    "df_companies = pd.concat(dfs_companies, ignore_index=True)\n",
    "df_companies['ner_tags'] = df_companies['ner_tags'].apply(lambda x: ast.literal_eval(x))\n",
    "df_fruits = pd.concat(dfs_fruits, ignore_index=True)\n",
    "df_fruits['ner_tags'] = df_fruits['ner_tags'].apply(lambda x: ast.literal_eval(x))"
   ]
  },
  {
   "cell_type": "code",
   "execution_count": 19,
   "id": "86c38cc8",
   "metadata": {},
   "outputs": [],
   "source": [
    "# Concaténation avec le corpus de référence\n",
    "new_tableau = pd.concat([tableau_reference, df_companies, df_fruits], axis=0)"
   ]
  },
  {
   "cell_type": "markdown",
   "id": "eb0e7e04",
   "metadata": {},
   "source": [
    "## Présentation du corpus concaténé"
   ]
  },
  {
   "cell_type": "code",
   "execution_count": 20,
   "id": "51113c23",
   "metadata": {},
   "outputs": [
    {
     "data": {
      "text/html": [
       "<div>\n",
       "<style scoped>\n",
       "    .dataframe tbody tr th:only-of-type {\n",
       "        vertical-align: middle;\n",
       "    }\n",
       "\n",
       "    .dataframe tbody tr th {\n",
       "        vertical-align: top;\n",
       "    }\n",
       "\n",
       "    .dataframe thead th {\n",
       "        text-align: right;\n",
       "    }\n",
       "</style>\n",
       "<table border=\"1\" class=\"dataframe\">\n",
       "  <thead>\n",
       "    <tr style=\"text-align: right;\">\n",
       "      <th></th>\n",
       "      <th>id</th>\n",
       "      <th>tokens</th>\n",
       "      <th>ner_tags</th>\n",
       "      <th>indice_tableau</th>\n",
       "    </tr>\n",
       "  </thead>\n",
       "  <tbody>\n",
       "    <tr>\n",
       "      <th>0</th>\n",
       "      <td>0</td>\n",
       "      <td>[EU, rejects, German, call, to, boycott, Briti...</td>\n",
       "      <td>[[3], [0], [7], [0], [0], [0], [7], [0], [0]]</td>\n",
       "      <td>tableau reference</td>\n",
       "    </tr>\n",
       "    <tr>\n",
       "      <th>1</th>\n",
       "      <td>1</td>\n",
       "      <td>[Peter, Blackburn]</td>\n",
       "      <td>[[1], [2]]</td>\n",
       "      <td>tableau reference</td>\n",
       "    </tr>\n",
       "    <tr>\n",
       "      <th>2</th>\n",
       "      <td>2</td>\n",
       "      <td>[BRUSSELS, 1996-08-22]</td>\n",
       "      <td>[[5], [0]]</td>\n",
       "      <td>tableau reference</td>\n",
       "    </tr>\n",
       "    <tr>\n",
       "      <th>3</th>\n",
       "      <td>3</td>\n",
       "      <td>[The, European, Commission, said, on, Thursday...</td>\n",
       "      <td>[[0], [3], [4], [0], [0], [0], [0], [0], [0], ...</td>\n",
       "      <td>tableau reference</td>\n",
       "    </tr>\n",
       "    <tr>\n",
       "      <th>4</th>\n",
       "      <td>4</td>\n",
       "      <td>[Germany, 's, representative, to, the, Europea...</td>\n",
       "      <td>[[5], [0], [0], [0], [0], [3], [4], [0], [0], ...</td>\n",
       "      <td>tableau reference</td>\n",
       "    </tr>\n",
       "    <tr>\n",
       "      <th>...</th>\n",
       "      <td>...</td>\n",
       "      <td>...</td>\n",
       "      <td>...</td>\n",
       "      <td>...</td>\n",
       "    </tr>\n",
       "    <tr>\n",
       "      <th>3490</th>\n",
       "      <td>136</td>\n",
       "      <td>['[', '86][87', ']', '\\n', 'Some', 'pests', 't...</td>\n",
       "      <td>[[0], [0], [0], [0], [1, 2, 3], [1, 3], [1, 3]...</td>\n",
       "      <td>fruits 24</td>\n",
       "    </tr>\n",
       "    <tr>\n",
       "      <th>3491</th>\n",
       "      <td>137</td>\n",
       "      <td>['[', '83', ']', '\\n', 'Heart', '-', 'rot', 'i...</td>\n",
       "      <td>[[0], [0], [0], [0], [1, 2, 3], [0], [1, 3], [...</td>\n",
       "      <td>fruits 24</td>\n",
       "    </tr>\n",
       "    <tr>\n",
       "      <th>3492</th>\n",
       "      <td>138</td>\n",
       "      <td>['The', 'disease', 'is', 'caused', 'by', 'Phyt...</td>\n",
       "      <td>[[1, 2, 3], [1, 3], [1, 3], [1, 3], [1, 3], [1...</td>\n",
       "      <td>fruits 24</td>\n",
       "    </tr>\n",
       "    <tr>\n",
       "      <th>3493</th>\n",
       "      <td>139</td>\n",
       "      <td>['Since', 'it', 'is', 'difficult', 'to', 'trea...</td>\n",
       "      <td>[[1, 2, 3], [1, 3], [1, 3], [1, 3], [1, 3], [1...</td>\n",
       "      <td>fruits 24</td>\n",
       "    </tr>\n",
       "    <tr>\n",
       "      <th>3494</th>\n",
       "      <td>140</td>\n",
       "      <td>['[', '88', ']']</td>\n",
       "      <td>[[0], [0], [0]]</td>\n",
       "      <td>fruits 24</td>\n",
       "    </tr>\n",
       "  </tbody>\n",
       "</table>\n",
       "<p>22954 rows × 4 columns</p>\n",
       "</div>"
      ],
      "text/plain": [
       "       id                                             tokens  \\\n",
       "0       0  [EU, rejects, German, call, to, boycott, Briti...   \n",
       "1       1                                 [Peter, Blackburn]   \n",
       "2       2                             [BRUSSELS, 1996-08-22]   \n",
       "3       3  [The, European, Commission, said, on, Thursday...   \n",
       "4       4  [Germany, 's, representative, to, the, Europea...   \n",
       "...   ...                                                ...   \n",
       "3490  136  ['[', '86][87', ']', '\\n', 'Some', 'pests', 't...   \n",
       "3491  137  ['[', '83', ']', '\\n', 'Heart', '-', 'rot', 'i...   \n",
       "3492  138  ['The', 'disease', 'is', 'caused', 'by', 'Phyt...   \n",
       "3493  139  ['Since', 'it', 'is', 'difficult', 'to', 'trea...   \n",
       "3494  140                                   ['[', '88', ']']   \n",
       "\n",
       "                                               ner_tags     indice_tableau  \n",
       "0         [[3], [0], [7], [0], [0], [0], [7], [0], [0]]  tableau reference  \n",
       "1                                            [[1], [2]]  tableau reference  \n",
       "2                                            [[5], [0]]  tableau reference  \n",
       "3     [[0], [3], [4], [0], [0], [0], [0], [0], [0], ...  tableau reference  \n",
       "4     [[5], [0], [0], [0], [0], [3], [4], [0], [0], ...  tableau reference  \n",
       "...                                                 ...                ...  \n",
       "3490  [[0], [0], [0], [0], [1, 2, 3], [1, 3], [1, 3]...          fruits 24  \n",
       "3491  [[0], [0], [0], [0], [1, 2, 3], [0], [1, 3], [...          fruits 24  \n",
       "3492  [[1, 2, 3], [1, 3], [1, 3], [1, 3], [1, 3], [1...          fruits 24  \n",
       "3493  [[1, 2, 3], [1, 3], [1, 3], [1, 3], [1, 3], [1...          fruits 24  \n",
       "3494                                    [[0], [0], [0]]          fruits 24  \n",
       "\n",
       "[22954 rows x 4 columns]"
      ]
     },
     "metadata": {},
     "output_type": "display_data"
    }
   ],
   "source": [
    "display(new_tableau)"
   ]
  },
  {
   "cell_type": "markdown",
   "id": "4af8be84-93e1-4bed-a98b-4df7db706960",
   "metadata": {},
   "source": [
    "# Comparer la fréquence des NER tags\n",
    "\n",
    "Il y a au total 3 catégories de NER tags : \n",
    "- 1 : B-I-PER (PERSONNE, token du début de l'entité)\n",
    "- 2 : B-I-ORG (PERSONNE, token à l'intérieur de l'entité)\n",
    "- 3 : B-I-LOC (ORGANISATION, token du début de l'entité)\n",
    "\n",
    "***Ici, nous calculons la fréquence de tags par catégorie dans les deux corpus***"
   ]
  },
  {
   "cell_type": "code",
   "execution_count": 21,
   "id": "d96d7095-f987-47b4-b9b8-b78817fce204",
   "metadata": {},
   "outputs": [],
   "source": [
    "def dict_ner(tableau: pd.core.frame.DataFrame) -> dict:\n",
    "    \"\"\"\n",
    "    Génère un dictionnaire de la fréquence des NER tags par catégorie à partir d'un corpus de DataFrame.\n",
    "\n",
    "    Cette fonction parcourt le DataFrame contenant les données du corpus et calcule la fréquence des NER tags\n",
    "    pour chaque catégorie. Les NER tags sont représentés par des entiers.\n",
    "\n",
    "    Args:\n",
    "        tableau (pd.core.frame.DataFrame): Le corpus représenté sous forme de DataFrame.\n",
    "\n",
    "    Returns:\n",
    "        dict: Un dictionnaire contenant la fréquence des NER tags pour chaque catégorie.\n",
    "\n",
    "    Parameters:\n",
    "        - tableau (pd.core.frame.DataFrame): Le DataFrame représentant le corpus de données.\n",
    "    \"\"\"\n",
    "\n",
    "    # Initialisation d'un dictionnaire pour stocker la fréquence des NER tags\n",
    "    dict_ner = defaultdict(int)\n",
    "\n",
    "    # Parcours de la colonne 'ner_tags' du DataFrame\n",
    "    for ner in tableau['ner_tags']:\n",
    "        # Parcours de tous les NER tags dans une phrase\n",
    "        for tags in ner:\n",
    "            # Si le tag n'est pas [0] (s'il existe)\n",
    "            if tags != [0]:\n",
    "                # Incrémentation du compteur pour ce tag dans le dictionnaire\n",
    "                for tag in tags:\n",
    "                    dict_ner[tag] += 1\n",
    "                    \n",
    "    # Tri du dictionnaire par ordre décroissant de fréquence\n",
    "    dict_ner = dict(sorted(dict_ner.items(), key=lambda x: x[1], reverse=True))\n",
    "\n",
    "    # Calcul du nombre total de tags non vides\n",
    "    total_tags = sum(dict_ner.values())\n",
    "    \n",
    "    # Calcul de la fréquence de chaque NER tag en pourcentage avec deux chiffres après la virgule\n",
    "    for tag, freq in dict_ner.items():\n",
    "        dict_ner[tag] = round(freq / total_tags, 4)\n",
    "        \n",
    "    return dict_ner"
   ]
  },
  {
   "cell_type": "markdown",
   "id": "e7e8ce1a-8f59-4802-939a-34e92a0175f4",
   "metadata": {},
   "source": [
    "## Présentation des fréquences des NER tags"
   ]
  },
  {
   "cell_type": "code",
   "execution_count": 22,
   "id": "ac09323f-ca5f-4c9c-ad2e-99b574edd17b",
   "metadata": {},
   "outputs": [
    {
     "name": "stdout",
     "output_type": "stream",
     "text": [
      "companies :\n",
      "\ttag : 1 \tfréquence : 0.4509\n",
      "\ttag : 2 \tfréquence : 0.0981\n",
      "\ttag : 3 \tfréquence : 0.451\n",
      "fruits :\n",
      "\ttag : 1 \tfréquence : 0.467\n",
      "\ttag : 2 \tfréquence : 0.065\n",
      "\ttag : 3 \tfréquence : 0.468\n"
     ]
    }
   ],
   "source": [
    "dict_companies = dict(sorted(dict_ner(df_companies).items(), key=lambda x:x[0]))\n",
    "dict_fruits = dict(sorted(dict_ner(df_fruits).items(), key=lambda x:x[0]))\n",
    "\n",
    "print(\"companies :\")\n",
    "for k, v in dict_companies.items():\n",
    "    print(\"\\ttag :\", k, \"\\tfréquence :\", v)\n",
    "    \n",
    "print(\"fruits :\")\n",
    "for k, v in dict_fruits.items():\n",
    "    print(\"\\ttag :\", k, \"\\tfréquence :\", v)"
   ]
  },
  {
   "cell_type": "markdown",
   "id": "15e06952-0d6c-4895-bb47-b85aa71dcef0",
   "metadata": {},
   "source": [
    "## Remplacer les indices des NER tags par leurs vrais noms"
   ]
  },
  {
   "cell_type": "code",
   "execution_count": 23,
   "id": "e948dc20-d928-4597-8895-d5fad31db0f2",
   "metadata": {
    "scrolled": true
   },
   "outputs": [
    {
     "name": "stdout",
     "output_type": "stream",
     "text": [
      "companies :\n",
      "\ttag : B-I-PER \tfréquence : 0.4509\n",
      "\ttag : B-I-ORG \tfréquence : 0.0981\n",
      "\ttag : B-I-LOC \tfréquence : 0.451\n",
      "fruits :\n",
      "\ttag : B-I-PER \tfréquence : 0.467\n",
      "\ttag : B-I-ORG \tfréquence : 0.065\n",
      "\ttag : B-I-LOC \tfréquence : 0.468\n"
     ]
    }
   ],
   "source": [
    "dict_ner_tags = {'B-I-PER': 1, 'B-I-ORG': 2, 'B-I-LOC': 3}\n",
    "dict_ner_tags = {v:k for k,v in dict_ner_tags.items()}\n",
    "\n",
    "dict_companies = {dict_ner_tags[k]: v for k, v in dict_companies.items()}\n",
    "dict_fruits = {dict_ner_tags[k]: v for k, v in dict_fruits.items()}\n",
    "\n",
    "print(\"companies :\")\n",
    "for k, v in dict_companies.items():\n",
    "    print(\"\\ttag :\", k, \"\\tfréquence :\", v)\n",
    "    \n",
    "print(\"fruits :\")\n",
    "for k, v in dict_fruits.items():\n",
    "    print(\"\\ttag :\", k, \"\\tfréquence :\", v)"
   ]
  },
  {
   "cell_type": "markdown",
   "id": "f1de72b4-aa76-45ae-adc3-dc68ce690f00",
   "metadata": {},
   "source": [
    "## Mettre les résultats des deux corpus en graphes de colonnes"
   ]
  },
  {
   "cell_type": "code",
   "execution_count": 24,
   "id": "932fc173-5efc-4b47-b804-f6088d300250",
   "metadata": {},
   "outputs": [
    {
     "data": {
      "image/png": "[encoded data removed]",
      "text/plain": [
       "<Figure size 1000x500 with 2 Axes>"
      ]
     },
     "metadata": {},
     "output_type": "display_data"
    }
   ],
   "source": [
    "# Avoir l'ordre des barres sur l'axe X\n",
    "keys_order = sorted(set(dict_companies.keys()))\n",
    "\n",
    "# Graphe du résultat d'entreprises\n",
    "plt.figure(figsize=(10, 5))\n",
    "plt.subplot(1, 2, 1)\n",
    "plt.bar(range(len(keys_order)), [dict_companies.get(key, 0) for key in keys_order], color='skyblue', tick_label=keys_order)\n",
    "plt.title('Sites Entreprises')\n",
    "plt.xlabel('Entitées Nommées')\n",
    "plt.ylabel('Fréquence')\n",
    "\n",
    "# Graphe du résultat de fruits\n",
    "plt.subplot(1, 2, 2)\n",
    "plt.bar(range(len(keys_order)), [dict_fruits.get(key, 0) for key in keys_order], color='salmon', tick_label=keys_order)\n",
    "plt.title('Sites Fruits')\n",
    "plt.xlabel('Entitées Nommées')\n",
    "plt.ylabel('Fréquence')\n",
    "\n",
    "# Visualisation des résultats\n",
    "plt.tight_layout()\n",
    "plt.show()"
   ]
  },
  {
   "cell_type": "markdown",
   "id": "d060dd21-30be-4dcb-bff7-00b0ea3aaefd",
   "metadata": {},
   "source": [
    "***Dans les deux graphes, nous pouvons constater que le tag 'B-I-LOC' et le tag 'B-I-PER' sont plus importants que le tag 'B-I-ORG'. Cela signifie que les patterns de regexp détectent beaucoup d'entitées de localisation et de personnes mais très peu d'entités d'organisation.***"
   ]
  },
  {
   "cell_type": "markdown",
   "id": "d2be6b2a-be61-49c9-ad7f-6c38994db519",
   "metadata": {},
   "source": [
    "## Visualisation des deux graphes ensemble par catégorie avec les valeurs"
   ]
  },
  {
   "cell_type": "code",
   "execution_count": 25,
   "id": "7fb91c36-83ca-464a-929a-81421c1c1c32",
   "metadata": {},
   "outputs": [
    {
     "data": {
      "image/png": "[encoded data removed]",
      "text/plain": [
       "<Figure size 1000x500 with 1 Axes>"
      ]
     },
     "metadata": {},
     "output_type": "display_data"
    }
   ],
   "source": [
    "# Les valeurs des deux dictionnaires dans le même ordre\n",
    "companies_values = [dict_companies.get(key, 0) for key in keys_order]\n",
    "fruits_values = [dict_fruits.get(key, 0) for key in keys_order]\n",
    "\n",
    "# Positions et Largeur des barres sur l'axe X\n",
    "x = np.arange(len(keys_order))\n",
    "width = 0.2\n",
    "\n",
    "# Création du graphique à barres groupées\n",
    "plt.figure(figsize=(10, 5))\n",
    "bars1 = plt.bar(x - width/2, companies_values, width, label='Entreprises', color='skyblue')\n",
    "bars2 = plt.bar(x + width/2, fruits_values, width, label='Fruits', color='salmon')\n",
    "\n",
    "# Afficher les valeurs au-dessus de chaque barre\n",
    "for b1, b2 in zip(bars1, bars2):\n",
    "    h1 = b1.get_height()\n",
    "    h2 = b2.get_height()\n",
    "    plt.text(b1.get_x() + b1.get_width() / 2, h1, '{:.4f}'.format(h1), ha='center', va='bottom')\n",
    "    plt.text(b2.get_x() + b2.get_width() / 2, h2, '{:.4f}'.format(h2), ha='center', va='bottom')\n",
    "\n",
    "# Noms axes et titre et légende\n",
    "plt.xlabel('Entitées nommées')\n",
    "plt.ylabel('Fréquence')\n",
    "plt.title(\"Comparison des résultats d'entreprises et de fruits\")\n",
    "plt.xticks(x, keys_order)\n",
    "plt.legend()\n",
    "\n",
    "# Visualisation du graphe\n",
    "plt.tight_layout()\n",
    "plt.show()"
   ]
  },
  {
   "cell_type": "markdown",
   "id": "511e9bf7-f0de-43ec-ba2b-9c89b5be76fd",
   "metadata": {},
   "source": [
    "***Depuis ce graphe, nous pouvons constater que le corpus d'entreprises contient beaucoup plus d'entitées d'organisation que le corpus de fruits. En revanche, les entités de personnes et de localisation sont légèrement plus nombreux dans les corpus de fruits que les corpus d'entreprises.***"
   ]
  },
  {
   "cell_type": "markdown",
   "id": "41125aad",
   "metadata": {},
   "source": [
    "# Évaluations"
   ]
  },
  {
   "cell_type": "markdown",
   "id": "a6036c3f",
   "metadata": {},
   "source": [
    "## Résultats ***y*** avec le Spacy\n",
    "***Ici, on analyse les NER tags avec Spacy afin de fournir un groupe de référence pour l'évaluation des résultats générés par les patterns de regexp***"
   ]
  },
  {
   "cell_type": "code",
   "execution_count": 26,
   "id": "683467d3",
   "metadata": {},
   "outputs": [],
   "source": [
    "# Génération des résultats de référence pour les fruits et pour les entreprises.\n",
    "results_fruits_y = get_results(train_fruits, 'fruit', 0)\n",
    "results_companies_y = get_results(train_companies, 'companies', 0)"
   ]
  },
  {
   "cell_type": "markdown",
   "id": "4053936b",
   "metadata": {},
   "source": [
    "## Récupérer les résultats de référence et de prédiction sauvegardés en fichiers pickle"
   ]
  },
  {
   "cell_type": "code",
   "execution_count": 27,
   "id": "6085feed-dab1-474f-a858-036735199cc5",
   "metadata": {},
   "outputs": [],
   "source": [
    "# Mettre les file path des fichiers pickle de prédiction et de référence dans deux listes\n",
    "path_results_pred = []\n",
    "path_results_ref = []\n",
    "for p1,p2 in zip(Path(\"../../results/results_pred\").iterdir(), Path(\"../../results/results_ref\").iterdir()):\n",
    "    if p1.suffix == '.pkl':\n",
    "        path_results_pred.append(str(p1))\n",
    "    if p2.suffix == '.pkl':\n",
    "        path_results_ref.append(str(p2))\n",
    "\n",
    "# Mettre les résultats de prédiction et de référence dans deux listes\n",
    "all_results_pred = []\n",
    "all_results_ref = []\n",
    "for c1, c2 in zip(path_results_pred, path_results_ref):\n",
    "    with open(c1, 'rb') as pickle_file:\n",
    "        corpus = pickle.load(pickle_file)\n",
    "        all_results_pred.append(corpus)\n",
    "    with open(c2, 'rb') as pickle_file:\n",
    "        corpus = pickle.load(pickle_file)\n",
    "        all_results_ref.append(corpus)\n",
    "\n",
    "# Trier les résultats selon leur ID\n",
    "all_results_pred = list(sorted(all_results_pred, key=lambda x:x.id))\n",
    "all_results_ref = list(sorted(all_results_ref, key=lambda x:x.id))"
   ]
  },
  {
   "cell_type": "markdown",
   "id": "7affc2c5",
   "metadata": {},
   "source": [
    "## Précision, rappel et f-mesure"
   ]
  },
  {
   "cell_type": "code",
   "execution_count": 28,
   "id": "a3f0f93e-f964-481a-9621-4a41425af3da",
   "metadata": {
    "scrolled": true
   },
   "outputs": [],
   "source": [
    "def metriques(all_results_ref:list, all_results_pred:list) -> float:\n",
    "    \"\"\"\n",
    "    Calcule les métriques de précision, rappel et F-mesure pour des résultats de référence et des résultats de prédiction.\n",
    "\n",
    "    Args:\n",
    "        all_results_ref (list): Liste des résultats de référence.\n",
    "        all_results_pred (list): Liste des résultats de prédiction.\n",
    "\n",
    "    Returns:\n",
    "        float: La moyenne des précisions.\n",
    "        float: La moyenne des rappels.\n",
    "        float: La moyenne des F-mesures.\n",
    "    \"\"\"\n",
    "\n",
    "    mean_precisionS = []\n",
    "    mean_rappelS = []\n",
    "    mean_f_mesureS = []\n",
    "    \n",
    "    # Parcours des résultats de référence et des résultats de prédiction\n",
    "    for rlt_r, rlt_pred in zip(all_results_ref, all_results_pred):\n",
    "        \n",
    "        ref = rlt_r.datas\n",
    "        pred = rlt_pred.datas\n",
    "\n",
    "        ner_tags_ref = []\n",
    "        ner_tags_pred = []\n",
    "        # Extraction des NER tags pour les résultats de référence\n",
    "        for i in ref:\n",
    "            for tag in i['ner_tags']:\n",
    "                ner_tags_ref.append(tag)\n",
    "        # Extraction des NER tags pour les résultats de prédiction\n",
    "        for i in pred:\n",
    "            for tag in i['ner_tags']:\n",
    "                ner_tags_pred.append(tag)\n",
    "        \n",
    "        # Calcul des précisions, rappels et F-mesures\n",
    "        total_predictions = 0\n",
    "        total_references = len(ner_tags_ref)\n",
    "        compte = 0\n",
    "        for p, r in zip(ner_tags_pred, ner_tags_ref):\n",
    "            total_predictions += len(p)\n",
    "            for t in p:\n",
    "                if t in r:\n",
    "                    compte += 1\n",
    "        precision = compte / total_predictions if total_predictions != 0 else 0\n",
    "        rappel = compte / total_references if total_references != 0 else 0\n",
    "        mean_precisionS.append(precision)\n",
    "        mean_rappelS.append(rappel)\n",
    "        try:\n",
    "            mean_f_mesureS.append((2 * precision * rappel) / (precision + rappel))\n",
    "        except ZeroDivisionError:\n",
    "            mean_f_mesureS.append(0)\n",
    "            continue\n",
    "    \n",
    "    # Calcul des moyennes globales de précision, rappel et F-mesure sur tous les résultats\n",
    "    return sum(mean_precisionS) / len(mean_precisionS), sum(mean_rappelS) / len(mean_rappelS), sum(mean_f_mesureS) / len(mean_f_mesureS)"
   ]
  },
  {
   "cell_type": "code",
   "execution_count": 29,
   "id": "e1f45e28-cb24-450e-88ec-94f6ba4fad06",
   "metadata": {},
   "outputs": [
    {
     "name": "stdout",
     "output_type": "stream",
     "text": [
      "Les NER tags détectés avec les patterns de regexp par rapport au Spacy :\n",
      "La précision moyenne est : 0.134\n",
      "Le rappel moyen est : 0.253\n",
      "Le score moyen de la f-mesure est : 0.175\n"
     ]
    }
   ],
   "source": [
    "mean_precision, mean_rappel, mean_f_mesure = metriques(all_results_ref, all_results_pred)\n",
    "\n",
    "print(\"Les NER tags détectés avec les patterns de regexp par rapport au Spacy :\")\n",
    "print(\"La précision moyenne est :\", round(mean_precision, 3))\n",
    "print(\"Le rappel moyen est :\", round(mean_rappel, 3))\n",
    "print(\"Le score moyen de la f-mesure est :\", round(mean_f_mesure, 3))"
   ]
  },
  {
   "cell_type": "markdown",
   "id": "81492392",
   "metadata": {},
   "source": [
    "Selon les résultats, nous pouvons constater que les NER tags détectés avec les patterns de regexp ont une performance globale inférieure à ceux détectés par Spacy, qui sont considérés ici comme les résultats de référence.\n",
    "\n",
    "La précision moyenne de 0.134 signifie que seulement environ 13% des entités identifiées par les patterns de regexp sont correctes par rapport à celles identifiées par Spacy.\n",
    "Le rappel moyen de 0.253 indique que les patterns de regexp ont réussi à détecter environ 25% des entités présentes dans les résultats de référence.\n",
    "Le score moyen de la f-mesure de 0.175 montre une mesure globale de précision et de rappel, ce qui signifie que le modèle basé sur les patterns de regexp ne réussit pas à atteindre un bon équilibre entre la précision et le rappel.\n",
    "\n",
    "En bref, ces résultats suggèrent que les patterns de regexp ne parviennent pas à détecter avec précision les NER tags par rapport au Spacy. De plus, étant donné que les patterns de regexp fournissent souvent plusieurs NER tags pour un token, cette méthode est donc très peu efficace. "
   ]
  },
  {
   "cell_type": "code",
   "execution_count": null,
   "id": "ce7f8444",
   "metadata": {},
   "outputs": [],
   "source": []
  }
 ],
 "metadata": {
  "kernelspec": {
   "display_name": "Python 3 (ipykernel)",
   "language": "python",
   "name": "python3"
  },
  "language_info": {
   "codemirror_mode": {
    "name": "ipython",
    "version": 3
   },
   "file_extension": ".py",
   "mimetype": "text/x-python",
   "name": "python",
   "nbconvert_exporter": "python",
   "pygments_lexer": "ipython3",
   "version": "3.10.13"
  }
 },
 "nbformat": 4,
 "nbformat_minor": 5
}
